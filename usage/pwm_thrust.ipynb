{
 "cells": [
  {
   "cell_type": "code",
   "execution_count": 1,
   "metadata": {},
   "outputs": [],
   "source": [
    "%run base.ipynb"
   ]
  },
  {
   "cell_type": "code",
   "execution_count": 2,
   "metadata": {},
   "outputs": [
    {
     "data": {
      "text/plain": [
       "DM([[-39.9229, -39.9229, -39.9229, 49.8249, -39.9229, -39.9229, -39.9229, -39.9229]])"
      ]
     },
     "execution_count": 2,
     "metadata": {},
     "output_type": "execute_result"
    }
   ],
   "source": [
    "result = blue.pwm_to_thrust([1100,1100,1100,1900,1100,1100,1100,1100])\n",
    "result"
   ]
  },
  {
   "cell_type": "code",
   "execution_count": 3,
   "metadata": {},
   "outputs": [
    {
     "data": {
      "text/plain": [
       "DM([[1101.71, 1101.71, 1101.71, 1900, 1101.71, 1101.71, 1101.71, 1101.71]])"
      ]
     },
     "execution_count": 3,
     "metadata": {},
     "output_type": "execute_result"
    }
   ],
   "source": [
    "blue.getNpwm_func(result)"
   ]
  },
  {
   "cell_type": "code",
   "execution_count": 4,
   "metadata": {},
   "outputs": [],
   "source": [
    "# blue.getNpwm_func.generate(\"thrust_to_pwm.c\")\n",
    "# os.system(f\"gcc -fPIC -shared thrust_to_pwm.c -o libThrust_PWM.so\")"
   ]
  },
  {
   "cell_type": "code",
   "execution_count": 5,
   "metadata": {},
   "outputs": [
    {
     "name": "stdout",
     "output_type": "stream",
     "text": [
      "Rad/s output: [ 17.89625637 123.62891179 232.76406442 318.5448645  307.80529243\n",
      " 235.59111432 240.3488516  323.45674449]\n"
     ]
    }
   ],
   "source": [
    "pwm_test = np.array([1500, 1600, 1700, 1800, 1200, 1300, 1900, 1100])\n",
    "rad_s_output = blue.pwm_to_rads_func(pwm_test).full().flatten()\n",
    "print(\"Rad/s output:\", rad_s_output)"
   ]
  },
  {
   "cell_type": "code",
   "execution_count": null,
   "metadata": {},
   "outputs": [
    {
     "data": {
      "text/plain": [
       "0"
      ]
     },
     "execution_count": 6,
     "metadata": {},
     "output_type": "execute_result"
    }
   ],
   "source": [
    "# blue.pwm_to_rads_func.generate(\"pwm_to_rads.c\")\n",
    "# os.system(f\"gcc -fPIC -shared pwm_to_rads.c -o libPWM_RAD.so\")"
   ]
  },
  {
   "cell_type": "code",
   "execution_count": null,
   "metadata": {},
   "outputs": [],
   "source": []
  }
 ],
 "metadata": {
  "kernelspec": {
   "display_name": "Python 3",
   "language": "python",
   "name": "python3"
  },
  "language_info": {
   "codemirror_mode": {
    "name": "ipython",
    "version": 3
   },
   "file_extension": ".py",
   "mimetype": "text/x-python",
   "name": "python",
   "nbconvert_exporter": "python",
   "pygments_lexer": "ipython3",
   "version": "3.10.12"
  }
 },
 "nbformat": 4,
 "nbformat_minor": 2
}
