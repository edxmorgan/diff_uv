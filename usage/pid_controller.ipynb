{
 "cells": [
  {
   "cell_type": "code",
   "execution_count": 1,
   "metadata": {},
   "outputs": [],
   "source": [
    "%run forward_simulation.ipynb"
   ]
  },
  {
   "cell_type": "code",
   "execution_count": 2,
   "metadata": {},
   "outputs": [],
   "source": [
    "uv_control = control()\n",
    "pid_control, i_buffer = uv_control.position_pid()\n",
    "\n",
    "pd_controller = Function('pid_control', [W, B, r_g, r_b, Kp, Ki, Kd, sum_e_buffer, sim_x, nd, dt], [pid_control, i_buffer])"
   ]
  },
  {
   "cell_type": "code",
   "execution_count": 3,
   "metadata": {},
   "outputs": [
    {
     "data": {
      "text/plain": [
       "(DM([-0, -0, 8.985, 0, 0, 0]), DM([0, 0, -0.175, 0, 0, 0]))"
      ]
     },
     "execution_count": 3,
     "metadata": {},
     "output_type": "execute_result"
    }
   ],
   "source": [
    "x0 = np.array([0.0, 0.0, 1.0, 0, 0, 0, 0, 0, 0, 0, 0, 0]) #x y z r p y u v w p q r # initial conditions\n",
    "xf = np.array([0.0, 0.0, 15.0, 0.0, 0.0, 0.0]) #x y z r p y # goal\n",
    "sebuffer_ = np.array([0,0,0,0,0,0])\n",
    "\n",
    "pd_controller(blue.W, blue.B, blue.rg, blue.rb, blue.kp, blue.ki, blue.kd, sebuffer_, x0, xf, blue.dt_s)"
   ]
  },
  {
   "cell_type": "code",
   "execution_count": 4,
   "metadata": {},
   "outputs": [
    {
     "data": {
      "text/plain": [
       "0"
      ]
     },
     "execution_count": 4,
     "metadata": {},
     "output_type": "execute_result"
    }
   ],
   "source": [
    "# c , cpp or matlab code generation for forward dynamics\n",
    "pd_controller.generate(\"PdController.c\")\n",
    "os.system(f\"gcc -fPIC -shared PdController.c -o libPd.so\")"
   ]
  },
  {
   "cell_type": "code",
   "execution_count": 5,
   "metadata": {},
   "outputs": [],
   "source": [
    "v_pid_control, i_buffer = uv_control.velocity_pid()"
   ]
  },
  {
   "cell_type": "code",
   "execution_count": 6,
   "metadata": {},
   "outputs": [],
   "source": [
    "vpd_controller = Function('v_pid_control', [W, B, r_g, r_b, Kp, Ki, Kd, sum_e_buffer, sim_x, xS0_prev, vb_d, dt], [v_pid_control, i_buffer])"
   ]
  },
  {
   "cell_type": "code",
   "execution_count": 7,
   "metadata": {},
   "outputs": [
    {
     "data": {
      "text/plain": [
       "(DM([0, -0, 0.25, 0, 0, -0]), DM([0, 0, -0.021875, 0, 0, 0]))"
      ]
     },
     "execution_count": 7,
     "metadata": {},
     "output_type": "execute_result"
    }
   ],
   "source": [
    "x0 = np.array([0.0, 0.0, 0.0, 0, 0, 0, 0, 0, 0, 0, 0, 0]) #x y z r p y u v w p q r # initial conditions\n",
    "xprev = np.array([0.0, 0.0, 0.0, 0, 0, 0, 0, 0, 0, 0, 0, 0]) #x y z r p y u v w p q r # initial conditions\n",
    "vf = np.array([0.0, 0.0, 0.5, 0.0, 0.0, 0.0]) #x y z r p y # goal\n",
    "sebuffer_ = np.array([0,0,0,0,0,0])\n",
    "dt_ = 0.006697\n",
    "vpd_controller(blue.W, blue.B, blue.rg, blue.rb, blue.kp, blue.ki, blue.kd, sebuffer_, x0, xprev, vf, blue.dt_s)"
   ]
  },
  {
   "cell_type": "code",
   "execution_count": 8,
   "metadata": {},
   "outputs": [],
   "source": [
    "# # c , cpp or matlab code generation for forward dynamics\n",
    "# vpd_controller.generate(\"vPdController.c\")\n",
    "# os.system(f\"gcc -fPIC -shared vPdController.c -o libVPd.so\")"
   ]
  }
 ],
 "metadata": {
  "kernelspec": {
   "display_name": "Python 3",
   "language": "python",
   "name": "python3"
  },
  "language_info": {
   "codemirror_mode": {
    "name": "ipython",
    "version": 3
   },
   "file_extension": ".py",
   "mimetype": "text/x-python",
   "name": "python",
   "nbconvert_exporter": "python",
   "pygments_lexer": "ipython3",
   "version": "3.9.6"
  }
 },
 "nbformat": 4,
 "nbformat_minor": 2
}
