{
 "cells": [
  {
   "cell_type": "code",
   "execution_count": null,
   "metadata": {},
   "outputs": [],
   "source": [
    "%run base.ipynb"
   ]
  },
  {
   "cell_type": "markdown",
   "metadata": {},
   "source": [
    "### Compare PyTorch and CasADi dynamics"
   ]
  },
  {
   "cell_type": "code",
   "execution_count": null,
   "metadata": {},
   "outputs": [],
   "source": [
    "from diffUV import dyn_body, TorchDynamics, VehicleParams",
    "from usage.blue_rov import Params as blue",
    "import torch",
    "",
    "params = VehicleParams(",
    "    mass=blue.m,",
    "    inertia=torch.diag(torch.tensor([blue.I_x, blue.I_y, blue.I_z], dtype=torch.float32)),",
    "    cog=torch.tensor(blue.rg, dtype=torch.float32),",
    "    cob=torch.tensor(blue.rb, dtype=torch.float32),",
    "    added_mass=torch.diag(torch.tensor([blue.X_du, blue.Y_dv, blue.Z_dw, blue.K_dp, blue.M_dq, blue.N_dr], dtype=torch.float32)),",
    "    linear_damping=torch.tensor([blue.Xu, blue.Yv, blue.Zw, blue.Kp, blue.Mq, blue.Nr], dtype=torch.float32),",
    "    quadratic_damping=torch.tensor([blue.Xuu, blue.Yvv, blue.Zww, blue.Kpp, blue.Mqq, blue.Nrr], dtype=torch.float32),",
    "    weight=blue.W,",
    "    buoyancy=blue.B,",
    ")",
    "torch_dyn = TorchDynamics(params)",
    "",
    "casadi_dyn = dyn_body()"
   ]
  },
  {
   "cell_type": "code",
   "execution_count": null,
   "metadata": {},
   "outputs": [],
   "source": [
    "v_r = torch.tensor([0.1, 0.2, -0.1, 0.0, 0.05, -0.05])",
    "tau = torch.tensor([1.0, 0.5, 0.0, 0.2, -0.1, 0.0])",
    "angles = torch.tensor([0.0, 0.0, 0.0])",
    "",
    "acc_torch = torch_dyn.body_forward_dynamics(v_r, tau, angles)",
    "print('torch:', acc_torch)",
    "",
    "# Example for CasADi dynamics (symbolic). This requires setting values for all symbols",
    "# For brevity, we only demonstrate the function call structure.",
    "# acc_casadi = casadi_dyn.body_forward_dynamics()",
    "# print('casadi:', acc_casadi)"
   ]
  }
 ],
 "metadata": {
  "kernelspec": {
   "display_name": "Python 3",
   "language": "python",
   "name": "python3"
  },
  "language_info": {
   "name": "python",
   "version": "3.10"
  }
 },
 "nbformat": 4,
 "nbformat_minor": 2
}
