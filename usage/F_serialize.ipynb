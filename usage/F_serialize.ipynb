{
 "cells": [
  {
   "cell_type": "code",
   "execution_count": 1,
   "metadata": {},
   "outputs": [],
   "source": [
    "%run pid_controller.ipynb"
   ]
  },
  {
   "cell_type": "code",
   "execution_count": 2,
   "metadata": {},
   "outputs": [],
   "source": [
    "# serialize casadi functions and use them in other projects \n",
    "pd_controller.save(\"pid.casadi\")"
   ]
  },
  {
   "cell_type": "code",
   "execution_count": 3,
   "metadata": {},
   "outputs": [],
   "source": [
    "pid_solver = Function.load(\"pid.casadi\")"
   ]
  },
  {
   "cell_type": "code",
   "execution_count": 4,
   "metadata": {},
   "outputs": [
    {
     "name": "stdout",
     "output_type": "stream",
     "text": [
      "[-0, -0, 8.985, 0, 0, 0]\n"
     ]
    }
   ],
   "source": [
    "x0 = np.array([0.0, 0.0, 1.0, 0, 0, 0, 0, 0, 0, 0, 0, 0]) #x y z r p y u v w p q r # initial conditions\n",
    "xf = np.array([0.0, 0.0, 15.0, 0.0, 0.0, 0.0]) #x y z r p y # goal\n",
    "sebuffer_ = np.array([0,0,0,0,0,0])\n",
    "control_u, sum_buffer = pd_controller(blue.W, blue.B, blue.rg, blue.rb, blue.kp, blue.ki, blue.kd, sebuffer_, x0, xf, blue.dt_s)\n",
    "print(control_u)"
   ]
  },
  {
   "cell_type": "code",
   "execution_count": null,
   "metadata": {},
   "outputs": [],
   "source": []
  }
 ],
 "metadata": {
  "kernelspec": {
   "display_name": "Python 3",
   "language": "python",
   "name": "python3"
  },
  "language_info": {
   "codemirror_mode": {
    "name": "ipython",
    "version": 3
   },
   "file_extension": ".py",
   "mimetype": "text/x-python",
   "name": "python",
   "nbconvert_exporter": "python",
   "pygments_lexer": "ipython3",
   "version": "3.9.6"
  }
 },
 "nbformat": 4,
 "nbformat_minor": 2
}
